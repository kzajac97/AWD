{
 "cells": [
  {
   "cell_type": "code",
   "execution_count": 1,
   "metadata": {
    "colab": {
     "base_uri": "https://localhost:8080/",
     "height": 34
    },
    "executionInfo": {
     "elapsed": 541,
     "status": "ok",
     "timestamp": 1603466248241,
     "user": {
      "displayName": "Krzysztof Zając",
      "photoUrl": "https://lh6.googleusercontent.com/-wmw9E9s7IU8/AAAAAAAAAAI/AAAAAAAAA7k/GncdTCWly3I/s64/photo.jpg",
      "userId": "08871449863323560685"
     },
     "user_tz": -120
    },
    "id": "uvh3kUvI5tm5",
    "outputId": "27710ba9-81d3-49d4-9638-8d73fcd2093e"
   },
   "outputs": [
    {
     "name": "stdout",
     "output_type": "stream",
     "text": [
      "Drive already mounted at /content/gdrive; to attempt to forcibly remount, call drive.mount(\"/content/gdrive\", force_remount=True).\n"
     ]
    }
   ],
   "source": [
    "from google.colab import drive\n",
    "\n",
    "drive.mount('/content/gdrive')\n",
    "root_path = 'gdrive/My Drive/Python/GAN'"
   ]
  },
  {
   "cell_type": "code",
   "execution_count": 16,
   "metadata": {
    "executionInfo": {
     "elapsed": 559,
     "status": "ok",
     "timestamp": 1603466988543,
     "user": {
      "displayName": "Krzysztof Zając",
      "photoUrl": "https://lh6.googleusercontent.com/-wmw9E9s7IU8/AAAAAAAAAAI/AAAAAAAAA7k/GncdTCWly3I/s64/photo.jpg",
      "userId": "08871449863323560685"
     },
     "user_tz": -120
    },
    "id": "U4HybDAk9hc0"
   },
   "outputs": [],
   "source": [
    "import os\n",
    "from itertools import product\n",
    "\n",
    "import numpy as np\n",
    "import pandas as pd\n",
    "import seaborn as sns; sns.set()\n",
    "import tensorflow as tf\n",
    "from matplotlib import pyplot as plt\n",
    "from skimage import io\n",
    "from tqdm.notebook import tqdm as progress_bar"
   ]
  },
  {
   "cell_type": "code",
   "execution_count": 37,
   "metadata": {
    "executionInfo": {
     "elapsed": 608,
     "status": "ok",
     "timestamp": 1603467973028,
     "user": {
      "displayName": "Krzysztof Zając",
      "photoUrl": "https://lh6.googleusercontent.com/-wmw9E9s7IU8/AAAAAAAAAAI/AAAAAAAAA7k/GncdTCWly3I/s64/photo.jpg",
      "userId": "08871449863323560685"
     },
     "user_tz": -120
    },
    "id": "nId9kScL9WNU"
   },
   "outputs": [],
   "source": [
    "def build_mnist_discriminator() -> tf.keras.Sequential:\n",
    "    \"\"\"\n",
    "    :return: compiled discriminator model for generating hand written digits\n",
    "    \"\"\"\n",
    "    model = tf.keras.Sequential()\n",
    "\n",
    "    model.add(tf.keras.layers.Conv2D(64, (3, 3), strides=(2, 2), padding=\"same\", input_shape=(28, 28, 1)))\n",
    "    model.add(tf.keras.layers.LeakyReLU(alpha=0.2))\n",
    "    model.add(tf.keras.layers.Dropout(0.4))\n",
    "\n",
    "    model.add(tf.keras.layers.Conv2D(64, (3, 3), strides=(2, 2), padding=\"same\"))\n",
    "    model.add(tf.keras.layers.LeakyReLU(alpha=0.2))\n",
    "    model.add(tf.keras.layers.Dropout(0.4))\n",
    "\n",
    "    model.add(tf.keras.layers.Flatten())\n",
    "    model.add(tf.keras.layers.Dense(1, activation=\"sigmoid\"))\n",
    "\n",
    "    optimizer = tf.keras.optimizers.Adam(lr=0.0002, beta_1=0.5)\n",
    "    model.compile(loss=\"binary_crossentropy\", optimizer=optimizer, metrics=[\"accuracy\"])\n",
    "\n",
    "    return model\n",
    "\n",
    "\n",
    "def build_mnist_generator(latent_dim: int = 100) -> tf.keras.Sequential:\n",
    "    \"\"\"\n",
    "    :return: generator model for generating hand written digits\n",
    "    \"\"\"\n",
    "    model = tf.keras.Sequential()\n",
    "    # foundation for 7x7 image\n",
    "    n_nodes = 128 * 7 * 7\n",
    "    model.add(tf.keras.layers.Dense(n_nodes, input_dim=latent_dim))\n",
    "    model.add(tf.keras.layers.LeakyReLU(alpha=0.2))\n",
    "    model.add(tf.keras.layers.Reshape((7, 7, 128)))\n",
    "    # up sample to 14x14\n",
    "    model.add(tf.keras.layers.Conv2DTranspose(128, (4, 4), strides=(2, 2), padding=\"same\"))\n",
    "    model.add(tf.keras.layers.LeakyReLU(alpha=0.2))\n",
    "    # up sample to 28x28\n",
    "    model.add(tf.keras.layers.Conv2DTranspose(128, (4, 4), strides=(2, 2), padding=\"same\"))\n",
    "    model.add(tf.keras.layers.LeakyReLU(alpha=0.2))\n",
    "\n",
    "    model.add(tf.keras.layers.Conv2D(1, (7, 7), activation=\"sigmoid\", padding=\"same\"))\n",
    "    return model\n",
    "\n",
    "def build_mnist_gan(generator, discriminator):\n",
    "    discriminator.trainable = False\n",
    "\n",
    "    model = tf.keras.Sequential([generator, discriminator, ])\n",
    "    \n",
    "    adam = tf.keras.optimizers.Adam(lr=0.0002, beta_1=0.5)\n",
    "    model.compile(loss=\"binary_crossentropy\", optimizer=adam)\n",
    " \n",
    "    return model\n"
   ]
  },
  {
   "cell_type": "code",
   "execution_count": 4,
   "metadata": {
    "executionInfo": {
     "elapsed": 506,
     "status": "ok",
     "timestamp": 1603466254155,
     "user": {
      "displayName": "Krzysztof Zając",
      "photoUrl": "https://lh6.googleusercontent.com/-wmw9E9s7IU8/AAAAAAAAAAI/AAAAAAAAA7k/GncdTCWly3I/s64/photo.jpg",
      "userId": "08871449863323560685"
     },
     "user_tz": -120
    },
    "id": "wCRL7-ZO9w1l"
   },
   "outputs": [],
   "source": [
    "class MNISTDataSet:\n",
    "    \"\"\"\n",
    "    Class holds MNIST data set generator implementation\n",
    "    Full data set is stored in memory\n",
    "    \"\"\"\n",
    "    def __init__(self, data_set: pd.DataFrame):\n",
    "        \"\"\"\n",
    "        :param data_set: pandas DataFrame with MNIST images\n",
    "        \"\"\"\n",
    "        self.features = data_set.loc[:, \"pixel0\": \"pixel783\"]\n",
    "        self.labels = data_set[\"label\"]\n",
    "        self.n_data_points = data_set.index.size\n",
    "\n",
    "    @classmethod\n",
    "    def from_csv(cls, path: str):\n",
    "        \"\"\"\n",
    "        :param path: relative path to .csv file with data set\n",
    "\n",
    "        :return: MNISTDataSet object constructed from file\n",
    "        \"\"\"\n",
    "        data_set = pd.read_csv(path)\n",
    "        return cls(data_set)\n",
    "\n",
    "    @staticmethod\n",
    "    def _prepare_images(samples: np.array) -> np.array:\n",
    "        \"\"\"\n",
    "        Prepare data rows to be used by neural network\n",
    "        Reshape and rescale values\n",
    "        \"\"\"\n",
    "        samples = samples.reshape(len(samples), 28, 28)\n",
    "        samples = np.expand_dims(samples, axis=-1)\n",
    "        samples = samples.astype(\"float32\")\n",
    "        samples = samples / 255.0\n",
    "\n",
    "        return samples\n",
    "\n",
    "    def real_batch(self, size: int = 32) -> np.array:\n",
    "        \"\"\"\n",
    "        :param size: number of images\n",
    "\n",
    "        :return: batch of real data samples\n",
    "        \"\"\"\n",
    "        sample_ids = np.random.randint(0, self.n_data_points, size)\n",
    "        samples = self.features.iloc[sample_ids].values\n",
    "\n",
    "        return self._prepare_images(samples), np.ones((size, 1))\n",
    "\n",
    "    def latent_batch(self, size: int = 32, latent_dim: int = 100) -> np.array:\n",
    "        \"\"\"\n",
    "        :param size: number of images\n",
    "        :param latent_dim: dimension of latent random distribution\n",
    "\n",
    "        :return: batch of real data samples\n",
    "        \"\"\"\n",
    "        inputs = np.random.randn(latent_dim * size)\n",
    "        inputs = inputs.reshape(size, latent_dim)\n",
    "\n",
    "        return inputs\n",
    "\n",
    "    def batch(self, samples: np.array, size: int = 32) -> tuple:\n",
    "        \"\"\"\n",
    "        Generate batch for GAN training\n",
    "\n",
    "        :param samples: generated by generator network\n",
    "        :param size: batch size\n",
    "\n",
    "        :return: tuple of features and labels for GAN training with real and generated data points\n",
    "        \"\"\"\n",
    "        real_x, real_y = self.real_batch(size // 2)\n",
    "        generated_x, generated_y = samples, np.zeros((size // 2, 1))\n",
    "\n",
    "        x, y = np.vstack([real_x, generated_x]), np.vstack([real_y, generated_y])\n",
    "        ordering = np.random.permutation(len(x))\n",
    "\n",
    "        return x[ordering], y[ordering]\n"
   ]
  },
  {
   "cell_type": "code",
   "execution_count": 24,
   "metadata": {
    "executionInfo": {
     "elapsed": 569,
     "status": "ok",
     "timestamp": 1603467095300,
     "user": {
      "displayName": "Krzysztof Zając",
      "photoUrl": "https://lh6.googleusercontent.com/-wmw9E9s7IU8/AAAAAAAAAAI/AAAAAAAAA7k/GncdTCWly3I/s64/photo.jpg",
      "userId": "08871449863323560685"
     },
     "user_tz": -120
    },
    "id": "tf7h5xuk93Z4"
   },
   "outputs": [],
   "source": [
    "class GenerativeAdversarialNetwork:\n",
    "    \"\"\"\n",
    "    Class holding interface for Generative Adversarial Network\n",
    "    \"\"\"\n",
    "    def __init__(self, generator_build_fn: callable, discriminator_build_fn: callable):\n",
    "        \"\"\"\n",
    "        :param generator_build_fn: function which returns compiled generator model\n",
    "        :param discriminator_build_fn:  function which returns compiled discriminator model\n",
    "        \"\"\"\n",
    "        self.generator = generator_build_fn()\n",
    "        self.discriminator = discriminator_build_fn()\n",
    "\n",
    "        generator = generator_build_fn()\n",
    "        discriminator = discriminator_build_fn()\n",
    "\n",
    "        discriminator.trainable = False\n",
    "\n",
    "        self.model = tf.keras.Sequential([generator, discriminator, ])\n",
    "\n",
    "    def compile(self, loss=\"binary_crossentropy\", optimizer=None, **kwargs) -> None:\n",
    "        \"\"\"Compile model with default parameters\"\"\"\n",
    "        optimizer = optimizer or tf.keras.optimizers.Adam(lr=0.0002, beta_1=0.5)\n",
    "        self.model.compile(loss=loss, optimizer=optimizer, **kwargs)\n",
    "\n",
    "    def fit(\n",
    "        self, data_set, latent_dim: int, epochs: int, batch_size=256, callbacks: tuple = (), silent: bool = False\n",
    "    ) -> None:\n",
    "        \"\"\"\n",
    "        Run Adversarial training of the model\n",
    "\n",
    "        :param data_set: data set interface object generating desired data set\n",
    "        :param latent_dim: dimension of latent space used to generate samples\n",
    "        :param epochs: number of epochs to train for\n",
    "        :param batch_size: number of data points in single batch\n",
    "        :param callbacks: list of callbacks to control verbosity and early stopping\n",
    "        :param silent: if False print progress bar\n",
    "        \"\"\"\n",
    "        n_batches_in_epoch = int(data_set.n_data_points / batch_size)\n",
    "        for epoch in progress_bar(range(epochs), disable=silent):\n",
    "            for batch_index in range(n_batches_in_epoch):\n",
    "                # set-up data batch\n",
    "                samples = self.generator(data_set.latent_batch(batch_size // 2))\n",
    "                x, y = data_set.batch(samples, size=batch_size)\n",
    "                # train discriminator\n",
    "                discriminator_loss, _ = self.discriminator.train_on_batch(x, y)\n",
    "                # train generator\n",
    "                inputs = data_set.latent_batch(size=batch_size, latent_dim=latent_dim)\n",
    "                labels = np.ones([batch_size, 1])\n",
    "                self.model.train_on_batch(inputs, labels)\n",
    "\n",
    "        for callback in callbacks:\n",
    "            terminate = callback.on_epoch_end(self.generator)\n",
    "            if terminate:\n",
    "                return\n",
    "\n",
    "    def generate(self, samples: np.array) -> np.array:\n",
    "        \"\"\"\n",
    "        :return: return data points generated by the model\n",
    "        \"\"\"\n",
    "        return self.generator.predict(samples)\n",
    "\n",
    "    def discriminate(self, samples: np.array) -> np.array:\n",
    "        \"\"\"\n",
    "        :return: discrimination result for given samples\n",
    "        \"\"\"\n",
    "        return np.argmanx(self.discriminator.predict(samples), axis=1)\n",
    "\n",
    "    def discriminate_probability(self, samples: np.array) -> np.array:\n",
    "        \"\"\"\n",
    "        :return: discrimination scores for given samples\n",
    "        \"\"\"\n",
    "        return self.discriminator.predict(samples)\n"
   ]
  },
  {
   "cell_type": "code",
   "execution_count": 38,
   "metadata": {
    "executionInfo": {
     "elapsed": 533,
     "status": "ok",
     "timestamp": 1603468054815,
     "user": {
      "displayName": "Krzysztof Zając",
      "photoUrl": "https://lh6.googleusercontent.com/-wmw9E9s7IU8/AAAAAAAAAAI/AAAAAAAAA7k/GncdTCWly3I/s64/photo.jpg",
      "userId": "08871449863323560685"
     },
     "user_tz": -120
    },
    "id": "ARC0SUjPI9q8"
   },
   "outputs": [],
   "source": [
    "def fit(model, generator, discriminator, data_set, latent_dim: int, epochs: int, batch_size=256, callbacks: tuple = (), silent: bool = False) -> None:\n",
    "    \"\"\"\n",
    "    Run Adversarial training of the model\n",
    "\n",
    "    :param data_set: data set interface object generating desired data set\n",
    "    :param latent_dim: dimension of latent space used to generate samples\n",
    "    :param epochs: number of epochs to train for\n",
    "    :param batch_size: number of data points in single batch\n",
    "    :param callbacks: list of callbacks to control verbosity and early stopping\n",
    "    :param silent: if False print progress bar\n",
    "    \"\"\"\n",
    "    n_batches_in_epoch = int(data_set.n_data_points / batch_size)\n",
    "    for epoch in progress_bar(range(epochs), disable=silent):\n",
    "        for batch_index in range(n_batches_in_epoch):\n",
    "            # set-up data batch\n",
    "            samples = generator(data_set.latent_batch(batch_size // 2))\n",
    "            x, y = data_set.batch(samples, size=batch_size)\n",
    "            # train discriminator\n",
    "            discriminator_loss, _ = discriminator.train_on_batch(x, y)\n",
    "            # train generator\n",
    "            inputs = data_set.latent_batch(size=batch_size, latent_dim=latent_dim)\n",
    "            labels = np.ones([batch_size, 1])\n",
    "            model.train_on_batch(inputs, labels)\n",
    "\n",
    "    for callback in callbacks:\n",
    "        terminate = callback.on_epoch_end(generator)\n",
    "        if terminate:\n",
    "            return"
   ]
  },
  {
   "cell_type": "code",
   "execution_count": 25,
   "metadata": {
    "executionInfo": {
     "elapsed": 550,
     "status": "ok",
     "timestamp": 1603467097293,
     "user": {
      "displayName": "Krzysztof Zając",
      "photoUrl": "https://lh6.googleusercontent.com/-wmw9E9s7IU8/AAAAAAAAAAI/AAAAAAAAA7k/GncdTCWly3I/s64/photo.jpg",
      "userId": "08871449863323560685"
     },
     "user_tz": -120
    },
    "id": "BCwS1WaU909t"
   },
   "outputs": [],
   "source": [
    "def show_generated_batch(images):\n",
    "    figure, axes = plt.subplots(2, 4, figsize=[32, 12])\n",
    "\n",
    "    for (x, y), image in zip(product(range(2), range(4)), images):\n",
    "        axes[x, y].imshow(image[:, :, 0], cmap=\"Greys\")\n",
    "\n",
    "\n",
    "class GANCallback(tf.keras.callbacks.Callback):\n",
    "    def __init__(self):\n",
    "        super(GANCallback, self).__init__()\n",
    "\n",
    "    def on_epoch_end(self):\n",
    "        ...\n",
    "\n",
    "    @staticmethod\n",
    "    def _show_generated_batch(images):\n",
    "        figure, axes = plt.subplots(2, 4, figsize=[32, 12])\n",
    "\n",
    "        for (x, y), image in zip(product(range(2), range(4)), images):\n",
    "            axes[x, y].imshow(image[:, :, 0], cmap=\"Greys\")\n"
   ]
  },
  {
   "cell_type": "code",
   "execution_count": 40,
   "metadata": {
    "executionInfo": {
     "elapsed": 2729,
     "status": "ok",
     "timestamp": 1603468126170,
     "user": {
      "displayName": "Krzysztof Zając",
      "photoUrl": "https://lh6.googleusercontent.com/-wmw9E9s7IU8/AAAAAAAAAAI/AAAAAAAAA7k/GncdTCWly3I/s64/photo.jpg",
      "userId": "08871449863323560685"
     },
     "user_tz": -120
    },
    "id": "vj65VM6B94uF"
   },
   "outputs": [],
   "source": [
    "mnist_data_set = MNISTDataSet.from_csv(os.path.join(root_path, \"train.csv\"))\n",
    "\n",
    "generator = build_mnist_generator()\n",
    "discriminator = build_mnist_discriminator()\n",
    "gan = build_mnist_gan(generator, discriminator)"
   ]
  },
  {
   "cell_type": "code",
   "execution_count": 42,
   "metadata": {
    "colab": {
     "base_uri": "https://localhost:8080/",
     "height": 117,
     "referenced_widgets": [
      "79c7f58078b94159935224e698c664bf",
      "f832e4940ef8416c8b74e7194e65d33a",
      "b927cc5fdfa843b793278a19e2ff194c",
      "10d4d172acb2426cab737325705649b9",
      "98a6f0f870eb41e49efa0321f38947dc",
      "61a34b82f0354ef89eeead00341adff7",
      "8556a3b0546d40bf9dd7c40ca1f53725",
      "4ebfcee975954187b70ea2f6ed330a19"
     ]
    },
    "executionInfo": {
     "elapsed": 564584,
     "status": "ok",
     "timestamp": 1603468741745,
     "user": {
      "displayName": "Krzysztof Zając",
      "photoUrl": "https://lh6.googleusercontent.com/-wmw9E9s7IU8/AAAAAAAAAAI/AAAAAAAAA7k/GncdTCWly3I/s64/photo.jpg",
      "userId": "08871449863323560685"
     },
     "user_tz": -120
    },
    "id": "S4BPbVo--d7o",
    "outputId": "bf75b135-7f1e-41b6-8d76-8c19caf49a00"
   },
   "outputs": [
    {
     "name": "stderr",
     "output_type": "stream",
     "text": [
      "/usr/local/lib/python3.6/dist-packages/ipykernel_launcher.py:13: TqdmDeprecationWarning: This function will be removed in tqdm==5.0.0\n",
      "Please use `tqdm.notebook.tqdm` instead of `tqdm.tqdm_notebook`\n",
      "  del sys.path[0]\n"
     ]
    },
    {
     "data": {
      "application/vnd.jupyter.widget-view+json": {
       "model_id": "79c7f58078b94159935224e698c664bf",
       "version_major": 2,
       "version_minor": 0
      },
      "text/plain": [
       "HBox(children=(FloatProgress(value=0.0, max=40.0), HTML(value='')))"
      ]
     },
     "metadata": {
      "tags": []
     },
     "output_type": "display_data"
    },
    {
     "name": "stdout",
     "output_type": "stream",
     "text": [
      "\n"
     ]
    }
   ],
   "source": [
    "fit(model=gan, generator=generator, discriminator=discriminator, data_set=mnist_data_set, latent_dim=100, epochs=40)"
   ]
  },
  {
   "cell_type": "code",
   "execution_count": 44,
   "metadata": {
    "executionInfo": {
     "elapsed": 577,
     "status": "ok",
     "timestamp": 1603469187519,
     "user": {
      "displayName": "Krzysztof Zając",
      "photoUrl": "https://lh6.googleusercontent.com/-wmw9E9s7IU8/AAAAAAAAAAI/AAAAAAAAA7k/GncdTCWly3I/s64/photo.jpg",
      "userId": "08871449863323560685"
     },
     "user_tz": -120
    },
    "id": "7rKrs4rGAImh"
   },
   "outputs": [],
   "source": [
    "generated = generator(mnist_data_set.latent_batch(size=8, latent_dim=100))"
   ]
  },
  {
   "cell_type": "code",
   "execution_count": 45,
   "metadata": {
    "colab": {
     "base_uri": "https://localhost:8080/",
     "height": 485
    },
    "executionInfo": {
     "elapsed": 837,
     "status": "ok",
     "timestamp": 1603469190032,
     "user": {
      "displayName": "Krzysztof Zając",
      "photoUrl": "https://lh6.googleusercontent.com/-wmw9E9s7IU8/AAAAAAAAAAI/AAAAAAAAA7k/GncdTCWly3I/s64/photo.jpg",
      "userId": "08871449863323560685"
     },
     "user_tz": -120
    },
    "id": "9tCsYEhUE17b",
    "outputId": "42be84a1-9913-4da2-832a-deda31b0762f"
   },
   "outputs": [
    {
     "data": {
      "image/png": "[encoded data removed]",
      "text/plain": [
       "<Figure size 576x576 with 1 Axes>"
      ]
     },
     "metadata": {
      "tags": []
     },
     "output_type": "display_data"
    }
   ],
   "source": [
    "_ = plt.figure(figsize=[8, 8])\n",
    "_ = plt.imshow(generated[1][:, :, 0], cmap=\"Greys\")"
   ]
  },
  {
   "cell_type": "code",
   "execution_count": null,
   "metadata": {
    "id": "zMyfjY6OE41_"
   },
   "outputs": [],
   "source": []
  }
 ],
 "metadata": {
  "accelerator": "GPU",
  "colab": {
   "authorship_tag": "ABX9TyMQW35GA6jxT5/ATU7XBByn",
   "name": "generating-mnist.ipynb",
   "provenance": []
  },
  "kernelspec": {
   "display_name": "Python 3",
   "language": "python",
   "name": "python3"
  },
  "language_info": {
   "codemirror_mode": {
    "name": "ipython",
    "version": 3
   },
   "file_extension": ".py",
   "mimetype": "text/x-python",
   "name": "python",
   "nbconvert_exporter": "python",
   "pygments_lexer": "ipython3",
   "version": "3.7.3"
  },
  "widgets": {
   "application/vnd.jupyter.widget-state+json": {
    "10d4d172acb2426cab737325705649b9": {
     "model_module": "@jupyter-widgets/controls",
     "model_name": "HTMLModel",
     "state": {
      "_dom_classes": [],
      "_model_module": "@jupyter-widgets/controls",
      "_model_module_version": "1.5.0",
      "_model_name": "HTMLModel",
      "_view_count": null,
      "_view_module": "@jupyter-widgets/controls",
      "_view_module_version": "1.5.0",
      "_view_name": "HTMLView",
      "description": "",
      "description_tooltip": null,
      "layout": "IPY_MODEL_4ebfcee975954187b70ea2f6ed330a19",
      "placeholder": "​",
      "style": "IPY_MODEL_8556a3b0546d40bf9dd7c40ca1f53725",
      "value": " 40/40 [16:52&lt;00:00, 25.31s/it]"
     }
    },
    "4ebfcee975954187b70ea2f6ed330a19": {
     "model_module": "@jupyter-widgets/base",
     "model_name": "LayoutModel",
     "state": {
      "_model_module": "@jupyter-widgets/base",
      "_model_module_version": "1.2.0",
      "_model_name": "LayoutModel",
      "_view_count": null,
      "_view_module": "@jupyter-widgets/base",
      "_view_module_version": "1.2.0",
      "_view_name": "LayoutView",
      "align_content": null,
      "align_items": null,
      "align_self": null,
      "border": null,
      "bottom": null,
      "display": null,
      "flex": null,
      "flex_flow": null,
      "grid_area": null,
      "grid_auto_columns": null,
      "grid_auto_flow": null,
      "grid_auto_rows": null,
      "grid_column": null,
      "grid_gap": null,
      "grid_row": null,
      "grid_template_areas": null,
      "grid_template_columns": null,
      "grid_template_rows": null,
      "height": null,
      "justify_content": null,
      "justify_items": null,
      "left": null,
      "margin": null,
      "max_height": null,
      "max_width": null,
      "min_height": null,
      "min_width": null,
      "object_fit": null,
      "object_position": null,
      "order": null,
      "overflow": null,
      "overflow_x": null,
      "overflow_y": null,
      "padding": null,
      "right": null,
      "top": null,
      "visibility": null,
      "width": null
     }
    },
    "61a34b82f0354ef89eeead00341adff7": {
     "model_module": "@jupyter-widgets/base",
     "model_name": "LayoutModel",
     "state": {
      "_model_module": "@jupyter-widgets/base",
      "_model_module_version": "1.2.0",
      "_model_name": "LayoutModel",
      "_view_count": null,
      "_view_module": "@jupyter-widgets/base",
      "_view_module_version": "1.2.0",
      "_view_name": "LayoutView",
      "align_content": null,
      "align_items": null,
      "align_self": null,
      "border": null,
      "bottom": null,
      "display": null,
      "flex": null,
      "flex_flow": null,
      "grid_area": null,
      "grid_auto_columns": null,
      "grid_auto_flow": null,
      "grid_auto_rows": null,
      "grid_column": null,
      "grid_gap": null,
      "grid_row": null,
      "grid_template_areas": null,
      "grid_template_columns": null,
      "grid_template_rows": null,
      "height": null,
      "justify_content": null,
      "justify_items": null,
      "left": null,
      "margin": null,
      "max_height": null,
      "max_width": null,
      "min_height": null,
      "min_width": null,
      "object_fit": null,
      "object_position": null,
      "order": null,
      "overflow": null,
      "overflow_x": null,
      "overflow_y": null,
      "padding": null,
      "right": null,
      "top": null,
      "visibility": null,
      "width": null
     }
    },
    "79c7f58078b94159935224e698c664bf": {
     "model_module": "@jupyter-widgets/controls",
     "model_name": "HBoxModel",
     "state": {
      "_dom_classes": [],
      "_model_module": "@jupyter-widgets/controls",
      "_model_module_version": "1.5.0",
      "_model_name": "HBoxModel",
      "_view_count": null,
      "_view_module": "@jupyter-widgets/controls",
      "_view_module_version": "1.5.0",
      "_view_name": "HBoxView",
      "box_style": "",
      "children": [
       "IPY_MODEL_b927cc5fdfa843b793278a19e2ff194c",
       "IPY_MODEL_10d4d172acb2426cab737325705649b9"
      ],
      "layout": "IPY_MODEL_f832e4940ef8416c8b74e7194e65d33a"
     }
    },
    "8556a3b0546d40bf9dd7c40ca1f53725": {
     "model_module": "@jupyter-widgets/controls",
     "model_name": "DescriptionStyleModel",
     "state": {
      "_model_module": "@jupyter-widgets/controls",
      "_model_module_version": "1.5.0",
      "_model_name": "DescriptionStyleModel",
      "_view_count": null,
      "_view_module": "@jupyter-widgets/base",
      "_view_module_version": "1.2.0",
      "_view_name": "StyleView",
      "description_width": ""
     }
    },
    "98a6f0f870eb41e49efa0321f38947dc": {
     "model_module": "@jupyter-widgets/controls",
     "model_name": "ProgressStyleModel",
     "state": {
      "_model_module": "@jupyter-widgets/controls",
      "_model_module_version": "1.5.0",
      "_model_name": "ProgressStyleModel",
      "_view_count": null,
      "_view_module": "@jupyter-widgets/base",
      "_view_module_version": "1.2.0",
      "_view_name": "StyleView",
      "bar_color": null,
      "description_width": "initial"
     }
    },
    "b927cc5fdfa843b793278a19e2ff194c": {
     "model_module": "@jupyter-widgets/controls",
     "model_name": "FloatProgressModel",
     "state": {
      "_dom_classes": [],
      "_model_module": "@jupyter-widgets/controls",
      "_model_module_version": "1.5.0",
      "_model_name": "FloatProgressModel",
      "_view_count": null,
      "_view_module": "@jupyter-widgets/controls",
      "_view_module_version": "1.5.0",
      "_view_name": "ProgressView",
      "bar_style": "success",
      "description": "100%",
      "description_tooltip": null,
      "layout": "IPY_MODEL_61a34b82f0354ef89eeead00341adff7",
      "max": 40,
      "min": 0,
      "orientation": "horizontal",
      "style": "IPY_MODEL_98a6f0f870eb41e49efa0321f38947dc",
      "value": 40
     }
    },
    "f832e4940ef8416c8b74e7194e65d33a": {
     "model_module": "@jupyter-widgets/base",
     "model_name": "LayoutModel",
     "state": {
      "_model_module": "@jupyter-widgets/base",
      "_model_module_version": "1.2.0",
      "_model_name": "LayoutModel",
      "_view_count": null,
      "_view_module": "@jupyter-widgets/base",
      "_view_module_version": "1.2.0",
      "_view_name": "LayoutView",
      "align_content": null,
      "align_items": null,
      "align_self": null,
      "border": null,
      "bottom": null,
      "display": null,
      "flex": null,
      "flex_flow": null,
      "grid_area": null,
      "grid_auto_columns": null,
      "grid_auto_flow": null,
      "grid_auto_rows": null,
      "grid_column": null,
      "grid_gap": null,
      "grid_row": null,
      "grid_template_areas": null,
      "grid_template_columns": null,
      "grid_template_rows": null,
      "height": null,
      "justify_content": null,
      "justify_items": null,
      "left": null,
      "margin": null,
      "max_height": null,
      "max_width": null,
      "min_height": null,
      "min_width": null,
      "object_fit": null,
      "object_position": null,
      "order": null,
      "overflow": null,
      "overflow_x": null,
      "overflow_y": null,
      "padding": null,
      "right": null,
      "top": null,
      "visibility": null,
      "width": null
     }
    }
   }
  }
 },
 "nbformat": 4,
 "nbformat_minor": 4
}
